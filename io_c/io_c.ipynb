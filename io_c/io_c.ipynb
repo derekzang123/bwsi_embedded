{
 "cells": [
  {
   "cell_type": "markdown",
   "id": "09fce6c1",
   "metadata": {},
   "source": [
    "# Io c\n",
    "\n",
    "In this lesson you will learn about some of the AVR IO \n",
    "functionality. This will enable you to read and write to Flash, EEPROM\n",
    "memories, as well as read and write to serial devices such \n",
    "as the host tools you are designing during this course. \n",
    "A series of challenges follow which will require you to \n",
    "read C documentation as well as other online resources. \n",
    "Good luck!\n",
    "\n",
    "Note: These challenges are similar to the IO Python\n",
    "challenges. You are implementing the devices which you\n",
    "were \"previously speaking\" to."
   ]
  },
  {
   "cell_type": "markdown",
   "id": "9ab964fc",
   "metadata": {},
   "source": [
    "### Challenge Name: echo_int (/embsec/io_c/echo_int)\n",
    "\n",
    "\n",
    "        1. Read a big-endian short from the host tool\n",
    "        2. Increment the integer by 1\n",
    "        3. Send the integer as a big-endian short back to the host tool\n",
    "    \n",
    "    Resources:\n",
    "    \n",
    "    <https://en.wikipedia.org/wiki/Endianness>\n",
    "    \n",
    "    <https://en.wikipedia.org/wiki/Integer_%28computer_science%29>\n",
    "    \n",
    "    <https://docs.python.org/3/library/struct.html>\n",
    "    \n",
    "    \n"
   ]
  },
  {
   "cell_type": "code",
   "execution_count": 6,
   "id": "2efc4721",
   "metadata": {},
   "outputs": [
    {
     "name": "stderr",
     "output_type": "stream",
     "text": [
      "echo_int.c: In function ‘main’:\n",
      "echo_int.c:15:26: error: ‘null’ undeclared (first use in this function); did you mean ‘nl’?\n",
      "   15 |     while (myshort[i] != null) {\n",
      "      |                          ^~~~\n",
      "      |                          nl\n",
      "echo_int.c:15:26: note: each undeclared identifier is reported only once for each function it appears in\n",
      "echo_int.c:19:23: warning: passing argument 2 of ‘uart_write’ makes integer from pointer without a cast [-Wint-conversion]\n",
      "   19 |     uart_write(UART2, myshort);\n",
      "      |                       ^~~~~~~\n",
      "      |                       |\n",
      "      |                       short unsigned int *\n",
      "In file included from echo_int.c:1:\n",
      "../../lib/uart/uart.h:18:40: note: expected ‘uint32_t’ {aka ‘unsigned int’} but argument is of type ‘short unsigned int *’\n",
      "   18 | void uart_write(uint8_t uart, uint32_t data);\n",
      "      |                               ~~~~~~~~~^~~~\n",
      "../../lib/stellaris/bearssl/beaverssl.c: In function ‘aes_encrypt’:\n",
      "../../lib/stellaris/bearssl/beaverssl.c:18:33: warning: initialization discards ‘const’ qualifier from pointer target type [-Wdiscarded-qualifiers]\n",
      "   18 |     br_block_cbcenc_class* ve = &br_aes_big_cbcenc_vtable;\n",
      "      |                                 ^\n",
      "../../lib/stellaris/bearssl/beaverssl.c: In function ‘aes_decrypt’:\n",
      "../../lib/stellaris/bearssl/beaverssl.c:33:33: warning: initialization discards ‘const’ qualifier from pointer target type [-Wdiscarded-qualifiers]\n",
      "   33 |     br_block_cbcdec_class* vd = &br_aes_big_cbcdec_vtable;\n",
      "      |                                 ^\n"
     ]
    },
    {
     "ename": "CalledProcessError",
     "evalue": "Command '['gcc -I../../lib/uart -I../../lib/stellaris/bearssl -I../../lib/BearSSL/inc echo_int.c ../../lib/stellaris/bearssl/beaverssl.c ../../lib/uart/uart_linux.c -o echo_int ../../lib/BearSSL/build/libbearssl.a']' returned non-zero exit status 1.",
     "output_type": "error",
     "traceback": [
      "\u001b[0;31m---------------------------------------------------------------------------\u001b[0m",
      "\u001b[0;31mCalledProcessError\u001b[0m                        Traceback (most recent call last)",
      "\u001b[0;32m/tmp/ipykernel_1345/4117485232.py\u001b[0m in \u001b[0;36m<module>\u001b[0;34m\u001b[0m\n\u001b[1;32m      9\u001b[0m     \u001b[0;32mreturn\u001b[0m \u001b[0;34m(\u001b[0m\u001b[0mextract_flag\u001b[0m\u001b[0;34m(\u001b[0m\u001b[0mstdout\u001b[0m\u001b[0;34m)\u001b[0m\u001b[0;34m)\u001b[0m\u001b[0;34m\u001b[0m\u001b[0;34m\u001b[0m\u001b[0m\n\u001b[1;32m     10\u001b[0m \u001b[0;34m\u001b[0m\u001b[0m\n\u001b[0;32m---> 11\u001b[0;31m \u001b[0mecho_int\u001b[0m\u001b[0;34m(\u001b[0m\u001b[0;34m)\u001b[0m\u001b[0;34m\u001b[0m\u001b[0;34m\u001b[0m\u001b[0m\n\u001b[0m\u001b[1;32m     12\u001b[0m \u001b[0;34m\u001b[0m\u001b[0m\n",
      "\u001b[0;32m/tmp/ipykernel_1345/4117485232.py\u001b[0m in \u001b[0;36mecho_int\u001b[0;34m()\u001b[0m\n\u001b[1;32m      4\u001b[0m \u001b[0;34m\u001b[0m\u001b[0m\n\u001b[1;32m      5\u001b[0m \u001b[0;32mdef\u001b[0m \u001b[0mecho_int\u001b[0m\u001b[0;34m(\u001b[0m\u001b[0;34m)\u001b[0m\u001b[0;34m:\u001b[0m\u001b[0;34m\u001b[0m\u001b[0;34m\u001b[0m\u001b[0m\n\u001b[0;32m----> 6\u001b[0;31m     \u001b[0msubprocess\u001b[0m\u001b[0;34m.\u001b[0m\u001b[0mcheck_output\u001b[0m\u001b[0;34m(\u001b[0m\u001b[0;34m[\u001b[0m\u001b[0;34mf'gcc -I../../lib/uart -I../../lib/stellaris/bearssl -I../../lib/BearSSL/inc echo_int.c ../../lib/stellaris/bearssl/beaverssl.c ../../lib/uart/uart_linux.c -o echo_int ../../lib/BearSSL/build/libbearssl.a'\u001b[0m\u001b[0;34m]\u001b[0m\u001b[0;34m,\u001b[0m \u001b[0mshell\u001b[0m\u001b[0;34m=\u001b[0m\u001b[0;32mTrue\u001b[0m\u001b[0;34m)\u001b[0m\u001b[0;34m\u001b[0m\u001b[0;34m\u001b[0m\u001b[0m\n\u001b[0m\u001b[1;32m      7\u001b[0m     \u001b[0mstdout\u001b[0m\u001b[0;34m,\u001b[0m \u001b[0mstdin\u001b[0m \u001b[0;34m=\u001b[0m \u001b[0membsec\u001b[0m\u001b[0;34m.\u001b[0m\u001b[0mgrade_c\u001b[0m\u001b[0;34m(\u001b[0m\u001b[0;34mf'./echo_int'\u001b[0m\u001b[0;34m,\u001b[0m \u001b[0;34mf'/embsec/io_c/echo_int'\u001b[0m\u001b[0;34m)\u001b[0m\u001b[0;34m\u001b[0m\u001b[0;34m\u001b[0m\u001b[0m\n\u001b[1;32m      8\u001b[0m \u001b[0;34m\u001b[0m\u001b[0m\n",
      "\u001b[0;32m/opt/conda/lib/python3.9/subprocess.py\u001b[0m in \u001b[0;36mcheck_output\u001b[0;34m(timeout, *popenargs, **kwargs)\u001b[0m\n\u001b[1;32m    422\u001b[0m         \u001b[0mkwargs\u001b[0m\u001b[0;34m[\u001b[0m\u001b[0;34m'input'\u001b[0m\u001b[0;34m]\u001b[0m \u001b[0;34m=\u001b[0m \u001b[0mempty\u001b[0m\u001b[0;34m\u001b[0m\u001b[0;34m\u001b[0m\u001b[0m\n\u001b[1;32m    423\u001b[0m \u001b[0;34m\u001b[0m\u001b[0m\n\u001b[0;32m--> 424\u001b[0;31m     return run(*popenargs, stdout=PIPE, timeout=timeout, check=True,\n\u001b[0m\u001b[1;32m    425\u001b[0m                **kwargs).stdout\n\u001b[1;32m    426\u001b[0m \u001b[0;34m\u001b[0m\u001b[0m\n",
      "\u001b[0;32m/opt/conda/lib/python3.9/subprocess.py\u001b[0m in \u001b[0;36mrun\u001b[0;34m(input, capture_output, timeout, check, *popenargs, **kwargs)\u001b[0m\n\u001b[1;32m    526\u001b[0m         \u001b[0mretcode\u001b[0m \u001b[0;34m=\u001b[0m \u001b[0mprocess\u001b[0m\u001b[0;34m.\u001b[0m\u001b[0mpoll\u001b[0m\u001b[0;34m(\u001b[0m\u001b[0;34m)\u001b[0m\u001b[0;34m\u001b[0m\u001b[0;34m\u001b[0m\u001b[0m\n\u001b[1;32m    527\u001b[0m         \u001b[0;32mif\u001b[0m \u001b[0mcheck\u001b[0m \u001b[0;32mand\u001b[0m \u001b[0mretcode\u001b[0m\u001b[0;34m:\u001b[0m\u001b[0;34m\u001b[0m\u001b[0;34m\u001b[0m\u001b[0m\n\u001b[0;32m--> 528\u001b[0;31m             raise CalledProcessError(retcode, process.args,\n\u001b[0m\u001b[1;32m    529\u001b[0m                                      output=stdout, stderr=stderr)\n\u001b[1;32m    530\u001b[0m     \u001b[0;32mreturn\u001b[0m \u001b[0mCompletedProcess\u001b[0m\u001b[0;34m(\u001b[0m\u001b[0mprocess\u001b[0m\u001b[0;34m.\u001b[0m\u001b[0margs\u001b[0m\u001b[0;34m,\u001b[0m \u001b[0mretcode\u001b[0m\u001b[0;34m,\u001b[0m \u001b[0mstdout\u001b[0m\u001b[0;34m,\u001b[0m \u001b[0mstderr\u001b[0m\u001b[0;34m)\u001b[0m\u001b[0;34m\u001b[0m\u001b[0;34m\u001b[0m\u001b[0m\n",
      "\u001b[0;31mCalledProcessError\u001b[0m: Command '['gcc -I../../lib/uart -I../../lib/stellaris/bearssl -I../../lib/BearSSL/inc echo_int.c ../../lib/stellaris/bearssl/beaverssl.c ../../lib/uart/uart_linux.c -o echo_int ../../lib/BearSSL/build/libbearssl.a']' returned non-zero exit status 1."
     ]
    }
   ],
   "source": [
    "import embsec\n",
    "import subprocess\n",
    "from core.util import extract_flag\n",
    "\n",
    "def echo_int():\n",
    "    subprocess.check_output([f'gcc -I../../lib/uart -I../../lib/stellaris/bearssl -I../../lib/BearSSL/inc echo_int.c ../../lib/stellaris/bearssl/beaverssl.c ../../lib/uart/uart_linux.c -o echo_int ../../lib/BearSSL/build/libbearssl.a'], shell=True)\n",
    "    stdout, stdin = embsec.grade_c(f'./echo_int', f'/embsec/io_c/echo_int')\n",
    "    \n",
    "    return (extract_flag(stdout))\n",
    "    \n",
    "echo_int()\n",
    "\n"
   ]
  },
  {
   "cell_type": "markdown",
   "id": "d9052fad",
   "metadata": {},
   "source": [
    "### Challenge Name: recv_file (/embsec/io_c/recv_file)\n",
    "\n",
    "\n",
    "\n",
    "        This challenge is the \"grader\" or \"C\" side of the send_file challenge in \"io_python,\" so you will be reading in\n",
    "        from the UART. \n",
    "\n",
    "        1. Receive the little endian short representing the size of the incoming file from UART2\n",
    "        2. Read in the file based on the size\n",
    "        3. Send back the file to UART2\n",
    "\n",
    "        The serial device will contain a little-endian short indicating the size of the\n",
    "        incoming data and then size bytes of data. The format is represented below:\n",
    "\n",
    "        [ 0x02 ]  [ variable ]\n",
    "        ---------------------\n",
    "        | Length |  Data... |\n",
    "        ---------------------\n",
    "\n",
    "    Resources:\n",
    "\n",
    "    <https://en.wikipedia.org/wiki/Endianness>\n",
    "\n",
    "    <https://en.wikipedia.org/wiki/Integer_%28computer_science%29>\n",
    "\n",
    "    <https://docs.python.org/3/library/struct.html>\n",
    "\n",
    "    <https://docs.python.org/3/tutorial/inputoutput.html>\n",
    "    \n"
   ]
  },
  {
   "cell_type": "code",
   "execution_count": null,
   "id": "f0390977",
   "metadata": {},
   "outputs": [],
   "source": [
    "import embsec\n",
    "import subprocess\n",
    "from core.util import extract_flag\n",
    "\n",
    "def recv_file():\n",
    "    subprocess.check_output([f'gcc -I../../lib/uart -I../../lib/stellaris/bearssl -I../../lib/BearSSL/inc recv_file.c ../../lib/stellaris/bearssl/beaverssl.c ../../lib/uart/uart_linux.c -o recv_file ../../lib/BearSSL/build/libbearssl.a'], shell=True)\n",
    "    stdout, stdin = embsec.grade_c(f'./recv_file', f'/embsec/io_c/recv_file')\n",
    "    \n",
    "    return (extract_flag(stdout))\n",
    "    \n",
    "recv_file()\n",
    "\n"
   ]
  },
  {
   "cell_type": "markdown",
   "id": "991afbf7",
   "metadata": {},
   "source": [
    "### Challenge Name: recv_large_file (/embsec/io_c/recv_large_file)\n",
    "\n",
    "\n",
    "        1. Repeatedly read in frames by reading the length followed by the data from UART2\n",
    "        2. Terminate once a zero-length frame is received\n",
    "        3. Locate the flag within the entire file (Will start with 'embsec{')\n",
    "        4. Send the entire flag back over UART2\n",
    "\n",
    "        The serial device contains a frames that begin with a little-endian short\n",
    "        indicating the size of the frame and then frame data. The maximum frame\n",
    "        size is 16 bytes. The frame format is represented below:\n",
    "\n",
    "        [ 0x02 ]  [ up to 0xE bytes ]\n",
    "        ----------------------------\n",
    "        | Length |      Data...    |\n",
    "        ----------------------------\n",
    "\n",
    "    Resources:\n",
    "    <https://en.wikipedia.org/wiki/Endianness>\n",
    "    <https://en.wikipedia.org/wiki/Integer_%28computer_science%29>\n",
    "    <https://docs.python.org/3/library/struct.html>\n",
    "    <https://docs.python.org/3/tutorial/inputoutput.html>\n",
    "    \n"
   ]
  },
  {
   "cell_type": "code",
   "execution_count": null,
   "id": "f7779264",
   "metadata": {},
   "outputs": [],
   "source": [
    "import embsec\n",
    "import subprocess\n",
    "from core.util import extract_flag\n",
    "\n",
    "def recv_large_file():\n",
    "    subprocess.check_output([f'gcc -I../../lib/uart -I../../lib/stellaris/bearssl -I../../lib/BearSSL/inc recv_large_file.c ../../lib/stellaris/bearssl/beaverssl.c ../../lib/uart/uart_linux.c -o recv_large_file ../../lib/BearSSL/build/libbearssl.a'], shell=True)\n",
    "    stdout, stdin = embsec.grade_c(f'./recv_large_file', f'/embsec/io_c/recv_large_file')\n",
    "    \n",
    "    return (extract_flag(stdout))\n",
    "    \n",
    "recv_large_file()\n",
    "\n"
   ]
  }
 ],
 "metadata": {
  "kernelspec": {
   "display_name": "Python 3 (ipykernel)",
   "language": "python",
   "name": "python3"
  },
  "language_info": {
   "codemirror_mode": {
    "name": "ipython",
    "version": 3
   },
   "file_extension": ".py",
   "mimetype": "text/x-python",
   "name": "python",
   "nbconvert_exporter": "python",
   "pygments_lexer": "ipython3",
   "version": "3.9.6"
  }
 },
 "nbformat": 4,
 "nbformat_minor": 5
}
