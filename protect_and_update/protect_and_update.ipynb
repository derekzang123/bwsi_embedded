{
 "cells": [
  {
   "cell_type": "markdown",
   "id": "bdc8dc93",
   "metadata": {},
   "source": [
    "# Protect and update\n",
    "\n",
    "\n",
    "This lesson is intended to prepare you for the design challenge by having you write\n",
    "the host-side (python) tools that communicate with the embedded bootloader. When you\n",
    "begin the actual design challenge we will provide you with a complete set of tools, but\n",
    "by implementing them yourself first (in this lesson) you will be able to understand how\n",
    "they work at a low level. Practice is the best way to learn!\n"
   ]
  },
  {
   "cell_type": "markdown",
   "id": "2692f027",
   "metadata": {},
   "source": [
    "### Challenge Name: fw_protect (/embsec/protect_and_update/fw_protect)\n",
    "\n",
    "The purpose of this tool will be to secure the firmware. Eventually,\n",
    "you will want to keep the firmware confidential and be able to verify its integrity and authenticity. But for now, \n",
    "you will implement a firmware protect tool that does not add security. This tool should simply:\n",
    "\n",
    "    1. Pack the version \"0\" into a little-endian short\n",
    "    2. Load the firmware binary from firmware.bin\n",
    "    3. Pack the size of the firmware into a little-endian short\n",
    "    4. Append the release message \"First version of firmware.\" to end of firmware (make sure it is null-terminated)\n",
    "    5. Build and send a binary blob in the following format to the grader:\n",
    "    \n",
    "        [ 0x2 ]      [ 0x2 ]      [ variable ]           [ variable ]\n",
    "        -------------------------------------------------------------------------\n",
    "        version | firmware size |   firmware   |   release message + null-byte   \n",
    "\n",
    "\n"
   ]
  },
  {
   "cell_type": "code",
   "execution_count": null,
   "id": "7b4843ea",
   "metadata": {},
   "outputs": [],
   "source": [
    "from embsec import Serial\n",
    "\n",
    "def fw_protect():\n",
    "    ser = Serial(\"/embsec/protect_and_update/fw_protect\")\n",
    "    # Your code goes here!\n",
    "\n",
    "fw_protect()\n"
   ]
  },
  {
   "cell_type": "markdown",
   "id": "0ca8d387",
   "metadata": {},
   "source": [
    "### Challenge Name: fw_update (/embsec/protect_and_update/fw_update)\n",
    "\n",
    "For this lesson you will implement a basic update tool for the design challenge.\n",
    "The tool will be used to update the device firmware. You should focus on reading in the firmware blob file, \n",
    "and constructing a set of frames to send to the bootloader. Pay attention to the structure of these \n",
    "frames, as the bootloader is expecting a certain size and format.\n",
    "\n",
    "The bootloader is expecting frames of the following format:\n",
    "\n",
    "      [ 0x2 ]    [ variable ]\n",
    "    ----------------------------\n",
    "    frame size |   data... \n",
    "\n",
    "Process:\n",
    "\n",
    "1. Read in binary blob\n",
    "2. Construct frames from blob\n",
    "3. Send a 'U' for update mode & receive a confirmation 'U'\n",
    "4. Send frames sequentially to boot loader\n",
    "\n"
   ]
  },
  {
   "cell_type": "code",
   "execution_count": null,
   "id": "423e7203",
   "metadata": {},
   "outputs": [],
   "source": [
    "from embsec import Serial\n",
    "\n",
    "def fw_update():\n",
    "    ser = Serial(\"/embsec/protect_and_update/fw_update\")\n",
    "    # Your code goes here!\n",
    "\n",
    "fw_update()\n"
   ]
  }
 ],
 "metadata": {},
 "nbformat": 4,
 "nbformat_minor": 5
}
