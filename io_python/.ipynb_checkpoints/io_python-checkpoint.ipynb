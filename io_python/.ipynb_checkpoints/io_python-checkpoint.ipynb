{
 "cells": [
  {
   "cell_type": "markdown",
   "id": "c606483c",
   "metadata": {},
   "source": [
    "# Io python\n",
    "\n",
    "In this lesson you will learn about the IO functions of Python.\n",
    "This will enable you to read and write files as well as \n",
    "read and write to serial devices such as the secure bootloader \n",
    "you are designing during this course. A series of challenges\n",
    "follow which will require you to read Python documentation\n",
    "as well as other online resources. Good luck!"
   ]
  },
  {
   "cell_type": "markdown",
   "id": "b956a5dd",
   "metadata": {
    "tags": []
   },
   "source": [
    "### Challenge Name: echo_int (/embsec/io_python/echo_int)\n",
    "\n",
    "\n",
    "    1. Read a big-endian short from the serial device\n",
    "    2. Increment the integer by 1\n",
    "    3. Send the integer as a big-endian short back to the serial device\n",
    "\n",
    "Resources:\n",
    "\n",
    "<https://en.wikipedia.org/wiki/Endianness>\n",
    "\n",
    "<https://en.wikipedia.org/wiki/Integer_%28computer_science%29>\n",
    "\n",
    "<https://docs.python.org/3/library/struct.html>\n",
    "\n",
    "\n"
   ]
  },
  {
   "cell_type": "code",
   "execution_count": 2,
   "id": "93ed07ec",
   "metadata": {},
   "outputs": [
    {
     "data": {
      "text/plain": [
       "b'embsec{echo_int_78f29e05dfbe76f4}\\n'"
      ]
     },
     "execution_count": 2,
     "metadata": {},
     "output_type": "execute_result"
    }
   ],
   "source": [
    "from embsec import Serial\n",
    "import struct\n",
    "\n",
    "def echo_int():\n",
    "    ser = Serial(\"/embsec/io_python/echo_int\")\n",
    "    # Your code goes here!\n",
    "    a = ser.read(2)\n",
    "    mytuple = struct.unpack('>H', a)\n",
    "    myint = mytuple[0]\n",
    "    myint += 1\n",
    "    myshort = struct.pack('>H', myint)\n",
    "    ser.write(myshort)\n",
    "    return ser.read_until()\n",
    "echo_int()\n",
    "\n"
   ]
  },
  {
   "cell_type": "markdown",
   "id": "8e975386",
   "metadata": {},
   "source": [
    "### Challenge Name: send_file (/embsec/io_python/send_file)\n",
    "\n",
    "\n",
    "\n",
    "    1. Read 'file.bin' from your local system\n",
    "    2. Calculate the size\n",
    "    3. Send the size as a little-endian short\n",
    "    4. Send the file to serial device\n",
    "\n",
    "    The serial device expects a little-endian short indicating the size of the\n",
    "    incoming data and then size bytes of data. The format is represented below:\n",
    "    \n",
    "    [ 0x02 ]  [ variable ]\n",
    "    ---------------------\n",
    "    | Length |  Data... |\n",
    "    ---------------------\n",
    "\n",
    "Resources:\n",
    "\n",
    "<https://en.wikipedia.org/wiki/Endianness>\n",
    "\n",
    "<https://en.wikipedia.org/wiki/Integer_%28computer_science%29>\n",
    "\n",
    "<https://docs.python.org/3/library/struct.html>\n",
    "\n",
    "<https://docs.python.org/3/tutorial/inputoutput.html>\n",
    "\n"
   ]
  },
  {
   "cell_type": "code",
   "execution_count": 1,
   "id": "6f984257",
   "metadata": {},
   "outputs": [
    {
     "data": {
      "text/plain": [
       "b'embsec{send_file_8119a3075ffde424}\\n'"
      ]
     },
     "execution_count": 1,
     "metadata": {},
     "output_type": "execute_result"
    }
   ],
   "source": [
    "from embsec import Serial\n",
    "import os\n",
    "import struct\n",
    "\n",
    "def send_file():\n",
    "    ser = Serial(\"/embsec/io_python/send_file\")\n",
    "    # Your code goes here!\n",
    "    with open('file.bin', 'rb') as fp:\n",
    "        data = fp.read()\n",
    "        file_size = struct.pack(\"<H\", len(data))\n",
    "        ser.write(file_size)\n",
    "        ser.write(data)\n",
    "    return ser.read_until()\n",
    "send_file()\n"
   ]
  },
  {
   "cell_type": "markdown",
   "id": "c30fc007",
   "metadata": {},
   "source": [
    "### Challenge Name: send_large_file (/embsec/io_python/send_large_file)\n",
    "\n",
    "\n",
    "    1. Read 'large_file.bin' from your local system\n",
    "    2. Send the data in frames to the serial device (frame format below)\n",
    "    3. Send zero-length frame to indicate end of transmission\n",
    "\n",
    "    The serial device expects that a frame begins with a little-endian short \n",
    "    indicating the size of the frame and then frame data. The maximum frame \n",
    "    size is 16 bytes. The frame format is represented below:\n",
    "    \n",
    "    [ 0x02 ]  [ up to 0xE bytes ]\n",
    "    ----------------------------\n",
    "    | Length |      Data...    |\n",
    "    ----------------------------\n",
    "    \n",
    "Resources:\n",
    "<https://en.wikipedia.org/wiki/Endianness>\n",
    "<https://en.wikipedia.org/wiki/Integer_%28computer_science%29>\n",
    "<https://docs.python.org/3/library/struct.html>\n",
    "<https://docs.python.org/3/tutorial/inputoutput.html>\n",
    "<https://pyserial.readthedocs.io/en/latest/shortintro.html>\n",
    "\n"
   ]
  },
  {
   "cell_type": "code",
   "execution_count": 7,
   "id": "0b84336c",
   "metadata": {},
   "outputs": [
    {
     "data": {
      "text/plain": [
       "b'embsec{send_large_file_06a337caac35d124}\\n'"
      ]
     },
     "execution_count": 7,
     "metadata": {},
     "output_type": "execute_result"
    }
   ],
   "source": [
    "from embsec import Serial\n",
    "import os\n",
    "import struct\n",
    "\n",
    "def send_large_file():\n",
    "    ser = Serial(\"/embsec/io_python/send_large_file\")\n",
    "    # Your code goes here!\n",
    "    f = open('large_file.bin', \"r\")\n",
    "    data = f.read()\n",
    "    file = os.stat('large_file.bin')\n",
    "    size = file.st_size\n",
    "    n = 12\n",
    "    split_data = [data[x:x+n] for x in range(0,size,12)]\n",
    "    for i in split_data:\n",
    "        length = struct.pack('<H',12)\n",
    "        ser.write(length)\n",
    "        ser.write(i.encode())\n",
    "    fin = struct.pack('<H',0)\n",
    "    ser.write(fin)\n",
    "    return ser.read_until()\n",
    "\n",
    "send_large_file()\n"
   ]
  },
  {
   "cell_type": "code",
   "execution_count": null,
   "id": "957281f0-baea-4bfc-8915-65a262b272f3",
   "metadata": {},
   "outputs": [],
   "source": []
  }
 ],
 "metadata": {
  "kernelspec": {
   "display_name": "Python 3 (ipykernel)",
   "language": "python",
   "name": "python3"
  },
  "language_info": {
   "codemirror_mode": {
    "name": "ipython",
    "version": 3
   },
   "file_extension": ".py",
   "mimetype": "text/x-python",
   "name": "python",
   "nbconvert_exporter": "python",
   "pygments_lexer": "ipython3",
   "version": "3.9.6"
  }
 },
 "nbformat": 4,
 "nbformat_minor": 5
}
