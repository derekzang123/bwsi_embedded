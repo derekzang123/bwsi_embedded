{
 "cells": [
  {
   "cell_type": "markdown",
   "id": "8f44eed3",
   "metadata": {},
   "source": [
    "# Hmac c\n",
    "\n"
   ]
  },
  {
   "cell_type": "markdown",
   "id": "3f8cac3a",
   "metadata": {},
   "source": [
    "### Challenge Name: hmac_generate (/embsec/hmac_c/hmac_generate)\n",
    "\n",
    "\n",
    "        The host tool will send you a variable-length frame of data. The data\n",
    "        frame will begin with a short, little-endian integer size of the data to \n",
    "        follow. You must generate an HMAC-SHA256 signature using beaverssl in C! There\n",
    "        is a C file 'hmac_generate.c' for you to start with, which defines the key to\n",
    "        use, as well.\n",
    "    \n",
    "        The data frame you will receive from the device will be formatted as follows:\n",
    "    \n",
    "        [ 0x2   ] [   variable...   ]\n",
    "        ------------------------------\n",
    "        | Size   |     Data          |\n",
    "        ------------------------------\n",
    "    \n",
    "        You must send a 32-byte HMAC-SHA256 signature to the serial device.\n",
    "    \n",
    "        [     0x20     ]\n",
    "        ----------------\n",
    "        |  HMAC(Data)  |\n",
    "        ----------------\n",
    "    \n",
    "        1. Use the HMAC key given in the C file\n",
    "        2. Read the size of the data from UART2, and allocate an array for it\n",
    "        3. Read the data from UART2\n",
    "        4. Generate and send a HMAC-SHA256 of the data\n",
    "        5. Read the response\n",
    "    \n",
    "    \n"
   ]
  },
  {
   "cell_type": "code",
   "execution_count": null,
   "id": "dd3434af",
   "metadata": {},
   "outputs": [],
   "source": [
    "import embsec\n",
    "import subprocess\n",
    "from core.util import extract_flag\n",
    "\n",
    "def hmac_generate():\n",
    "    subprocess.check_output([f'gcc -I../../lib/uart -I../../lib/stellaris/bearssl -I../../lib/BearSSL/inc hmac_generate.c ../../lib/stellaris/bearssl/beaverssl.c ../../lib/uart/uart_linux.c -o hmac_generate ../../lib/BearSSL/build/libbearssl.a'], shell=True)\n",
    "    stdout, stdin = embsec.grade_c(f'./hmac_generate', f'/embsec/hmac_c/hmac_generate')\n",
    "    \n",
    "    return (extract_flag(stdout))\n",
    "    \n",
    "hmac_generate()\n",
    "\n"
   ]
  },
  {
   "cell_type": "markdown",
   "id": "02c77a27",
   "metadata": {},
   "source": [
    "### Challenge Name: hmac_verify (/embsec/hmac_c/hmac_verify)\n",
    "\n",
    "\n",
    "        The host tool will send you a series of messages in the format\n",
    "        described below. For each message you must check the attached signature. \n",
    "        If verification fails, you must respond with a zero-byte '\\x00'. If \n",
    "        verification passes, you must respond with a one-byte '\\x01'. When the\n",
    "        length of the message you are about to receive is zero , read a newline-\n",
    "        terminated flag.\n",
    "\n",
    "        A C file 'hmac_verify.c' has been provided as a starting point. The serial device\n",
    "        is on UART2.\n",
    "    \n",
    "        The serial device will send signed messages in the following format:\n",
    "    \n",
    "        ------------------------------------------\n",
    "        [ 0x2 ] [   variable...    ] [    0x20   ]\n",
    "        ------------------------------------------\n",
    "        | Size   |     Data         | HMAC(Data) |\n",
    "        ------------------------------------------\n",
    "    \n"
   ]
  },
  {
   "cell_type": "code",
   "execution_count": null,
   "id": "4fe68f2f",
   "metadata": {},
   "outputs": [],
   "source": [
    "import embsec\n",
    "import subprocess\n",
    "from core.util import extract_flag\n",
    "\n",
    "def hmac_verify():\n",
    "    subprocess.check_output([f'gcc -I../../lib/uart -I../../lib/stellaris/bearssl -I../../lib/BearSSL/inc hmac_verify.c ../../lib/stellaris/bearssl/beaverssl.c ../../lib/uart/uart_linux.c -o hmac_verify ../../lib/BearSSL/build/libbearssl.a'], shell=True)\n",
    "    stdout, stdin = embsec.grade_c(f'./hmac_verify', f'/embsec/hmac_c/hmac_verify')\n",
    "    \n",
    "    return (extract_flag(stdout))\n",
    "    \n",
    "hmac_verify()\n",
    "\n"
   ]
  }
 ],
 "metadata": {},
 "nbformat": 4,
 "nbformat_minor": 5
}
