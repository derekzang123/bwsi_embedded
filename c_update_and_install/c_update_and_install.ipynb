{
 "cells": [
  {
   "cell_type": "markdown",
   "id": "a24a18d4",
   "metadata": {},
   "source": [
    "# C update and install\n",
    "\n",
    "\n",
    "In this lesson we will be writing the C code for the bootloader that will receive firmware updates from\n",
    "the update tool (which you wrote in `protect_and_update`!). You will need to implement the update functionality\n",
    "as well as the install functionality!\n"
   ]
  },
  {
   "cell_type": "markdown",
   "id": "8d3e2d68",
   "metadata": {
    "tags": []
   },
   "source": [
    "### Challenge Name: c_update_short (/embsec/c_update_and_install/c_update_short)\n",
    "\n",
    "\n",
    "For this challenge you will implement a basic bootloader update routine for the design challenge.\n",
    "This routine will match the update tool which you wrote in a `protect_and_update`. For this impelementation you don't need\n",
    "to worry about validating or securing the bootloader. Here we will just focus on writing an 'insecure' bootloader.\n",
    "\n",
    "Some of the code has been written for you. Look for the 'TODOs' and to write the function that reads frames from\n",
    "the update tool and writes them to flash!\n",
    "\n",
    "You are familiar with the format of the binary blob, since you constructed in with fw_protect.\n",
    "The update tool will send frames of the following format:\n",
    "\n",
    "      [ 0x2 ]    [ variable ]\n",
    "    ----------------------------\n",
    "    frame size |   data... \n",
    "\n",
    "Process:\n",
    "\n",
    "1. Wait until you receive a 'U' on UART1\n",
    "2. Send a 'U' on UART1 to confirm\n",
    "3. Receive frames and write them to flash\n",
    "4. Stop when a zero-length frame is received\n",
    "\n",
    "The code you have been given has a function that will run to check your work. If you wrote the code\n",
    "correctly, you'll get a flag!\n",
    "\n",
    "In this challenge you will be send a *short* firmware, so you can quickly test your code (as the update\n",
    "process takes a while, and we want you to be able to get some fast feedback). The next challenge is the same\n",
    "as this one, but you will be sent a much longer firmware that will check your code for edge cases!\n",
    "\n",
    "\n"
   ]
  },
  {
   "cell_type": "code",
   "execution_count": null,
   "id": "b21f7db3",
   "metadata": {},
   "outputs": [
    {
     "name": "stderr",
     "output_type": "stream",
     "text": [
      "./src/c_update_short.c: In function 'load_initial_firmware':\n",
      "./src/c_update_short.c:109:22: warning: implicit declaration of function 'strlen' [-Wimplicit-function-declaration]\n",
      "  109 |   uint16_t msg_len = strlen(initial_msg)+1;\n",
      "      |                      ^~~~~~\n",
      "./src/c_update_short.c:109:22: warning: incompatible implicit declaration of built-in function 'strlen'\n",
      "./src/c_update_short.c:14:1: note: include '<string.h>' or provide a declaration of 'strlen'\n",
      "   13 | #include \"uart.h\"\n",
      "  +++ |+#include <string.h>\n",
      "   14 | \n",
      "./src/c_update_short.c:145:5: warning: implicit declaration of function 'memcpy' [-Wimplicit-function-declaration]\n",
      "  145 |     memcpy(temp_buf, initial_data + (i*FLASH_PAGESIZE), rem_fw_bytes);\n",
      "      |     ^~~~~~\n",
      "./src/c_update_short.c:145:5: warning: incompatible implicit declaration of built-in function 'memcpy'\n",
      "./src/c_update_short.c:145:5: note: include '<string.h>' or provide a declaration of 'memcpy'\n",
      "./src/c_update_short.c: In function 'load_firmware':\n",
      "./src/c_update_short.c:179:12: warning: unused variable 'received_fw_bytes' [-Wunused-variable]\n",
      "  179 |   uint32_t received_fw_bytes = 0;\n",
      "      |            ^~~~~~~~~~~~~~~~~\n",
      "./src/c_update_short.c:176:12: warning: unused variable 'page_addr' [-Wunused-variable]\n",
      "  176 |   uint32_t page_addr = FW_BASE;\n",
      "      |            ^~~~~~~~~\n",
      "./src/c_update_short.c:175:12: warning: unused variable 'data_index' [-Wunused-variable]\n",
      "  175 |   uint32_t data_index = 0;\n",
      "      |            ^~~~~~~~~~\n",
      "./src/c_update_short.c:171:7: warning: unused variable 'frame_length' [-Wunused-variable]\n",
      "  171 |   int frame_length = 0;\n",
      "      |       ^~~~~~~~~~~~\n",
      "./src/c_update_short.c: In function 'verify_flash_contents':\n",
      "./src/c_update_short.c:306:25: warning: pointer targets in passing argument 2 of 'uart_write_str' differ in signedness [-Wpointer-sign]\n",
      "  306 |   uart_write_str(UART1, resp_buff);\n",
      "      |                         ^~~~~~~~~\n",
      "      |                         |\n",
      "      |                         uint8_t * {aka unsigned char *}\n",
      "In file included from ./src/c_update_short.c:13:\n",
      "/home/jovyan/lib/uart/uart.h:20:41: note: expected 'char *' but argument is of type 'uint8_t *' {aka 'unsigned char *'}\n",
      "   20 | void uart_write_str(uint8_t uart, char *str);\n",
      "      |                                   ~~~~~~^~~\n"
     ]
    },
    {
     "name": "stdout",
     "output_type": "stream",
     "text": [
      "QEMU 5.1.0 monitor - type 'help' for more information\n",
      "(qemu) "
     ]
    },
    {
     "name": "stderr",
     "output_type": "stream",
     "text": [
      "qemu-system-arm: -serial tcp:0.0.0.0:13337,server: info: QEMU waiting for connection on: disconnected:tcp:0.0.0.0:13337,server\n",
      "qemu-system-arm: -serial tcp:0.0.0.0:13338,server: info: QEMU waiting for connection on: disconnected:tcp:0.0.0.0:13338,server\n",
      "qemu-system-arm: -serial tcp:0.0.0.0:13339,server: info: QEMU waiting for connection on: disconnected:tcp:0.0.0.0:13339,server\n"
     ]
    },
    {
     "name": "stdout",
     "output_type": "stream",
     "text": [
      "Version: 3\n",
      "Size: 16 bytes\n",
      "\n",
      "Waiting for bootloader to enter update mode...\n",
      "UART2 >> bytearray(b'Welcome to the BWSI Vehicle Update Service!\\nSend \"U\" to update, and \"B\" to run the firmware.\\nWriting')\n",
      "UART1 >> bytearray(b'U')\n",
      "UART2 >> bytearray(b' 0x20 to UART0 will reset the device.\\n')\n",
      "UART1 >> bytearray(b'\\x00\\x03\\x00\\x00\\x00\\x00\\x00')\n"
     ]
    },
    {
     "name": "stderr",
     "output_type": "stream",
     "text": [
      "Process CUpdateShort-1:\n",
      "Traceback (most recent call last):\n",
      "  File \"/opt/conda/lib/python3.9/multiprocessing/process.py\", line 315, in _bootstrap\n",
      "    self.run()\n",
      "  File \"/opt/conda/lib/python3.9/site-packages/core/challenge.py\", line 78, in run\n",
      "    self.grader(*self.grader_pttys)\n",
      "  File \"/opt/conda/lib/python3.9/site-packages/embsec/lessons/c_update_and_install/c_update_and_install.py\", line 147, in c_update_short_grader\n",
      "    update_firmware(ser=ser1, infile='firmware_short.blob', debug=False)\n",
      "  File \"/opt/conda/lib/python3.9/site-packages/embsec/lessons/protect_and_update/fw_update.py\", line 97, in update_firmware\n",
      "    send_frame(ser, frame, debug=debug)\n",
      "  File \"/opt/conda/lib/python3.9/site-packages/embsec/lessons/protect_and_update/fw_update.py\", line 68, in send_frame\n",
      "    raise RuntimeError(\"ERROR: Bootloader responded with {}\".format(repr(resp)))\n",
      "RuntimeError: ERROR: Bootloader responded with bytearray(b'\\x03')\n"
     ]
    }
   ],
   "source": [
    "import embsec\n",
    "import subprocess\n",
    "from core.util import extract_flag\n",
    "\n",
    "def c_update_short():\n",
    "    subprocess.check_output([f'(cd c_update_short && make CHALLENGE=c_update_short)'], shell=True)\n",
    "    resp0, resp1, resp2 = embsec.grade_emulated(f'./c_update_short/gcc/main.bin', f'/embsec/c_update_and_install/c_update_short')\n",
    "    stdout, stdin = resp2\n",
    "    return (extract_flag(stdout))\n",
    "    \n",
    "c_update_short()\n",
    "\n"
   ]
  },
  {
   "cell_type": "markdown",
   "id": "0652a345",
   "metadata": {},
   "source": [
    "### Challenge Name: c_update_long (/embsec/c_update_and_install/c_update_long)\n",
    "\n",
    "\n",
    "This challenge is exactly the same as `c_update_short`, but you will be sent a *much* larger firmware during\n",
    "the update process! This will test your ability to write across flash pages ... spooky!\n",
    "\n",
    "Copy in the C code you wrote in the previous challenge, and make edits as needed to fix any bugs you find!\n",
    "\n",
    "If the previous challenge works but this one does not, the issue is probably related to writing across pages!\n",
    "If you wrote the code correctly, you'll get a flag!\n",
    "\n"
   ]
  },
  {
   "cell_type": "code",
   "execution_count": null,
   "id": "f2515bfe",
   "metadata": {},
   "outputs": [],
   "source": [
    "import embsec\n",
    "import subprocess\n",
    "from core.util import extract_flag\n",
    "\n",
    "def c_update_long():\n",
    "    subprocess.check_output([f'(cd c_update_long && make CHALLENGE=c_update_long)'], shell=True)\n",
    "    resp0, resp1, resp2 = embsec.grade_emulated(f'./c_update_long/gcc/main.bin', f'/embsec/c_update_and_install/c_update_long')\n",
    "    stdout, stdin = resp2\n",
    "    return (extract_flag(stdout))\n",
    "    \n",
    "c_update_long()\n",
    "\n"
   ]
  }
 ],
 "metadata": {
  "kernelspec": {
   "display_name": "Python 3 (ipykernel)",
   "language": "python",
   "name": "python3"
  },
  "language_info": {
   "codemirror_mode": {
    "name": "ipython",
    "version": 3
   },
   "file_extension": ".py",
   "mimetype": "text/x-python",
   "name": "python",
   "nbconvert_exporter": "python",
   "pygments_lexer": "ipython3",
   "version": "3.9.6"
  }
 },
 "nbformat": 4,
 "nbformat_minor": 5
}
