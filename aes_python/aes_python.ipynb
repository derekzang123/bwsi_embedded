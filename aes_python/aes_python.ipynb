{
 "cells": [
  {
   "cell_type": "markdown",
   "id": "cd68816f",
   "metadata": {},
   "source": [
    "# Aes python\n",
    "\n",
    " In this lesson you will learn how to use the Python library\n",
    "PyCryptodome to encrypt and decrypt with the AES algorithm. This\n",
    "lesson requires an understanding of Python IO, byte manipulation,\n",
    "and endianess. Good luck!\n"
   ]
  },
  {
   "cell_type": "markdown",
   "id": "3a4588d0",
   "metadata": {
    "tags": []
   },
   "source": [
    "### Challenge Name: aes_decrypt (/embsec/aes_python/aes_decrypt)\n",
    "\n",
    "\n",
    "    The serial device is sending you a message encrypted with the key\n",
    "    stored in aeskeyfile.bin. The message is in the following format:\n",
    "       \n",
    "    [ 0x10 ] [      0x2      ] [ variable...]\n",
    "    ----------------------------------------\n",
    "    |  IV   | Ciphertext Size | Ciphertext |\n",
    "    ----------------------------------------\n",
    "    \n",
    "    1. Read the AES key from 'aeskeyfile0.bin'\n",
    "    2. Read the 16 byte initialization vector (IV) from the serial device\n",
    "    3. Read the ciphertext size (formatted as a little-endian short) from the serial device\n",
    "    4. Read the ciphertext from the serial device\n",
    "    5. Decrypt the ciphertext using 128-bit AES in CBC mode\n",
    "    \n",
    "Resources:\n",
    "\n",
    "<https://docs.python.org/3/library/struct.html>\n",
    "\n",
    "<https://pycryptodome.readthedocs.io/en/latest/src/cipher/aes.html>\n",
    "\n"
   ]
  },
  {
   "cell_type": "code",
   "execution_count": 3,
   "id": "0c4d28ed",
   "metadata": {
    "tags": []
   },
   "outputs": [
    {
     "ename": "ValueError",
     "evalue": "Data must be padded to 16 byte boundary in CBC mode",
     "output_type": "error",
     "traceback": [
      "\u001b[0;31m---------------------------------------------------------------------------\u001b[0m",
      "\u001b[0;31mValueError\u001b[0m                                Traceback (most recent call last)",
      "\u001b[0;32m/tmp/ipykernel_361/2112605380.py\u001b[0m in \u001b[0;36m<module>\u001b[0;34m\u001b[0m\n\u001b[1;32m     14\u001b[0m     \u001b[0mcipher\u001b[0m \u001b[0;34m=\u001b[0m \u001b[0mAES\u001b[0m\u001b[0;34m.\u001b[0m\u001b[0mnew\u001b[0m\u001b[0;34m(\u001b[0m\u001b[0mkey\u001b[0m\u001b[0;34m,\u001b[0m \u001b[0mAES\u001b[0m\u001b[0;34m.\u001b[0m\u001b[0mMODE_CBC\u001b[0m\u001b[0;34m,\u001b[0m \u001b[0miv\u001b[0m\u001b[0;34m=\u001b[0m\u001b[0miv\u001b[0m\u001b[0;34m)\u001b[0m\u001b[0;34m\u001b[0m\u001b[0;34m\u001b[0m\u001b[0m\n\u001b[1;32m     15\u001b[0m     \u001b[0mplaintext\u001b[0m \u001b[0;34m=\u001b[0m \u001b[0mcipher\u001b[0m\u001b[0;34m.\u001b[0m\u001b[0mdecrypt\u001b[0m\u001b[0;34m(\u001b[0m\u001b[0mct\u001b[0m\u001b[0;34m)\u001b[0m\u001b[0;34m\u001b[0m\u001b[0;34m\u001b[0m\u001b[0m\n\u001b[0;32m---> 16\u001b[0;31m \u001b[0maes_decrypt\u001b[0m\u001b[0;34m(\u001b[0m\u001b[0;34m)\u001b[0m\u001b[0;34m\u001b[0m\u001b[0;34m\u001b[0m\u001b[0m\n\u001b[0m",
      "\u001b[0;32m/tmp/ipykernel_361/2112605380.py\u001b[0m in \u001b[0;36maes_decrypt\u001b[0;34m()\u001b[0m\n\u001b[1;32m     13\u001b[0m     \u001b[0mct\u001b[0m \u001b[0;34m=\u001b[0m \u001b[0mser\u001b[0m\u001b[0;34m.\u001b[0m\u001b[0mread\u001b[0m\u001b[0;34m(\u001b[0m\u001b[0;34m)\u001b[0m\u001b[0;34m\u001b[0m\u001b[0;34m\u001b[0m\u001b[0m\n\u001b[1;32m     14\u001b[0m     \u001b[0mcipher\u001b[0m \u001b[0;34m=\u001b[0m \u001b[0mAES\u001b[0m\u001b[0;34m.\u001b[0m\u001b[0mnew\u001b[0m\u001b[0;34m(\u001b[0m\u001b[0mkey\u001b[0m\u001b[0;34m,\u001b[0m \u001b[0mAES\u001b[0m\u001b[0;34m.\u001b[0m\u001b[0mMODE_CBC\u001b[0m\u001b[0;34m,\u001b[0m \u001b[0miv\u001b[0m\u001b[0;34m=\u001b[0m\u001b[0miv\u001b[0m\u001b[0;34m)\u001b[0m\u001b[0;34m\u001b[0m\u001b[0;34m\u001b[0m\u001b[0m\n\u001b[0;32m---> 15\u001b[0;31m     \u001b[0mplaintext\u001b[0m \u001b[0;34m=\u001b[0m \u001b[0mcipher\u001b[0m\u001b[0;34m.\u001b[0m\u001b[0mdecrypt\u001b[0m\u001b[0;34m(\u001b[0m\u001b[0mct\u001b[0m\u001b[0;34m)\u001b[0m\u001b[0;34m\u001b[0m\u001b[0;34m\u001b[0m\u001b[0m\n\u001b[0m\u001b[1;32m     16\u001b[0m \u001b[0maes_decrypt\u001b[0m\u001b[0;34m(\u001b[0m\u001b[0;34m)\u001b[0m\u001b[0;34m\u001b[0m\u001b[0;34m\u001b[0m\u001b[0m\n",
      "\u001b[0;32m/opt/conda/lib/python3.9/site-packages/Crypto/Cipher/_mode_cbc.py\u001b[0m in \u001b[0;36mdecrypt\u001b[0;34m(self, ciphertext, output)\u001b[0m\n\u001b[1;32m    244\u001b[0m         \u001b[0;32mif\u001b[0m \u001b[0mresult\u001b[0m\u001b[0;34m:\u001b[0m\u001b[0;34m\u001b[0m\u001b[0;34m\u001b[0m\u001b[0m\n\u001b[1;32m    245\u001b[0m             \u001b[0;32mif\u001b[0m \u001b[0mresult\u001b[0m \u001b[0;34m==\u001b[0m \u001b[0;36m3\u001b[0m\u001b[0;34m:\u001b[0m\u001b[0;34m\u001b[0m\u001b[0;34m\u001b[0m\u001b[0m\n\u001b[0;32m--> 246\u001b[0;31m                 \u001b[0;32mraise\u001b[0m \u001b[0mValueError\u001b[0m\u001b[0;34m(\u001b[0m\u001b[0;34m\"Data must be padded to %d byte boundary in CBC mode\"\u001b[0m \u001b[0;34m%\u001b[0m \u001b[0mself\u001b[0m\u001b[0;34m.\u001b[0m\u001b[0mblock_size\u001b[0m\u001b[0;34m)\u001b[0m\u001b[0;34m\u001b[0m\u001b[0;34m\u001b[0m\u001b[0m\n\u001b[0m\u001b[1;32m    247\u001b[0m             \u001b[0;32mraise\u001b[0m \u001b[0mValueError\u001b[0m\u001b[0;34m(\u001b[0m\u001b[0;34m\"Error %d while decrypting in CBC mode\"\u001b[0m \u001b[0;34m%\u001b[0m \u001b[0mresult\u001b[0m\u001b[0;34m)\u001b[0m\u001b[0;34m\u001b[0m\u001b[0;34m\u001b[0m\u001b[0m\n\u001b[1;32m    248\u001b[0m \u001b[0;34m\u001b[0m\u001b[0m\n",
      "\u001b[0;31mValueError\u001b[0m: Data must be padded to 16 byte boundary in CBC mode"
     ]
    }
   ],
   "source": [
    "from embsec import Serial\n",
    "import struct\n",
    "from Crypto.Cipher import AES\n",
    "\n",
    "def aes_decrypt():\n",
    "    ser = Serial(\"/embsec/aes_python/aes_decrypt\")\n",
    "    # Your code goes here!\n",
    "    with open ('aeskeyfile0.bin', 'rb') as fp:\n",
    "        key = fp.read()\n",
    "    iv = ser.read(16)\n",
    "    ct_size = ser.read(2)\n",
    "    struct.pack(\"<H\", len(ct_size))\n",
    "    ct = ser.read()\n",
    "    cipher = AES.new(key, AES.MODE_CBC, iv=iv)\n",
    "    plaintext = cipher.decrypt(ct)\n",
    "aes_decrypt()\n"
   ]
  },
  {
   "cell_type": "markdown",
   "id": "dfe94457",
   "metadata": {
    "tags": []
   },
   "source": [
    "### Challenge Name: aes_encrypt_file (/embsec/aes_python/aes_encrypt_file)\n",
    "\n",
    "\n",
    "    You need to send an encrypted message to the serial device. Encrypt\n",
    "    the contents of 'plaintext.bin' with the key found in 'aeskeyfile.bin' \n",
    "    and a random IV. The message needs to be formatted as follows:\n",
    "    \n",
    "    [ 0x10 ] [      0x2      ] [ variable...]\n",
    "    ----------------------------------------\n",
    "    |  IV   | Ciphertext Size | Ciphertext |\n",
    "    ----------------------------------------\n",
    "\n",
    "    1. Read the AES key from 'aeskeyfile1.bin'\n",
    "    2. Encrypt the plaintext located in 'plaintext.bin'\n",
    "    3. Send the IV to the serial device\n",
    "    4. Send the ciphertext size (formatted as a little-endian short) to the serial device\n",
    "    5. Send the ciphertext to the serial device\n",
    "    6. Read the response\n",
    "\n",
    "Resources:\n",
    "\n",
    "<https://docs.python.org/3/library/struct.html>\n",
    "\n",
    "<https://pycryptodome.readthedocs.io/en/latest/src/cipher/aes.html>\n",
    "\n",
    "\n"
   ]
  },
  {
   "cell_type": "code",
   "execution_count": 3,
   "id": "4077eb44",
   "metadata": {},
   "outputs": [
    {
     "ename": "AttributeError",
     "evalue": "'CbcMode' object has no attribute 'nonce'",
     "output_type": "error",
     "traceback": [
      "\u001b[0;31m---------------------------------------------------------------------------\u001b[0m",
      "\u001b[0;31mAttributeError\u001b[0m                            Traceback (most recent call last)",
      "\u001b[0;32m/tmp/ipykernel_289/4156462264.py\u001b[0m in \u001b[0;36m<module>\u001b[0;34m\u001b[0m\n\u001b[1;32m     11\u001b[0m     \u001b[0mnonce\u001b[0m \u001b[0;34m=\u001b[0m \u001b[0mcipher\u001b[0m\u001b[0;34m.\u001b[0m\u001b[0mnonce\u001b[0m\u001b[0;34m\u001b[0m\u001b[0;34m\u001b[0m\u001b[0m\n\u001b[1;32m     12\u001b[0m     \u001b[0mciphertext\u001b[0m\u001b[0;34m,\u001b[0m \u001b[0mtag\u001b[0m \u001b[0;34m=\u001b[0m \u001b[0mcipher\u001b[0m\u001b[0;34m.\u001b[0m\u001b[0mencrypt_and_digest\u001b[0m\u001b[0;34m(\u001b[0m\u001b[0mdata\u001b[0m\u001b[0;34m)\u001b[0m\u001b[0;34m\u001b[0m\u001b[0;34m\u001b[0m\u001b[0m\n\u001b[0;32m---> 13\u001b[0;31m \u001b[0maes_encrypt_file\u001b[0m\u001b[0;34m(\u001b[0m\u001b[0;34m)\u001b[0m\u001b[0;34m\u001b[0m\u001b[0;34m\u001b[0m\u001b[0m\n\u001b[0m",
      "\u001b[0;32m/tmp/ipykernel_289/4156462264.py\u001b[0m in \u001b[0;36maes_encrypt_file\u001b[0;34m()\u001b[0m\n\u001b[1;32m      9\u001b[0m         \u001b[0mkey\u001b[0m \u001b[0;34m=\u001b[0m \u001b[0mfp\u001b[0m\u001b[0;34m.\u001b[0m\u001b[0mread\u001b[0m\u001b[0;34m(\u001b[0m\u001b[0;34m)\u001b[0m\u001b[0;34m\u001b[0m\u001b[0;34m\u001b[0m\u001b[0m\n\u001b[1;32m     10\u001b[0m     \u001b[0mcipher\u001b[0m \u001b[0;34m=\u001b[0m \u001b[0mAES\u001b[0m\u001b[0;34m.\u001b[0m\u001b[0mnew\u001b[0m\u001b[0;34m(\u001b[0m\u001b[0mkey\u001b[0m\u001b[0;34m,\u001b[0m \u001b[0mAES\u001b[0m\u001b[0;34m.\u001b[0m\u001b[0mMODE_CBC\u001b[0m\u001b[0;34m)\u001b[0m\u001b[0;34m\u001b[0m\u001b[0;34m\u001b[0m\u001b[0m\n\u001b[0;32m---> 11\u001b[0;31m     \u001b[0mnonce\u001b[0m \u001b[0;34m=\u001b[0m \u001b[0mcipher\u001b[0m\u001b[0;34m.\u001b[0m\u001b[0mnonce\u001b[0m\u001b[0;34m\u001b[0m\u001b[0;34m\u001b[0m\u001b[0m\n\u001b[0m\u001b[1;32m     12\u001b[0m     \u001b[0mciphertext\u001b[0m\u001b[0;34m,\u001b[0m \u001b[0mtag\u001b[0m \u001b[0;34m=\u001b[0m \u001b[0mcipher\u001b[0m\u001b[0;34m.\u001b[0m\u001b[0mencrypt_and_digest\u001b[0m\u001b[0;34m(\u001b[0m\u001b[0mdata\u001b[0m\u001b[0;34m)\u001b[0m\u001b[0;34m\u001b[0m\u001b[0;34m\u001b[0m\u001b[0m\n\u001b[1;32m     13\u001b[0m \u001b[0maes_encrypt_file\u001b[0m\u001b[0;34m(\u001b[0m\u001b[0;34m)\u001b[0m\u001b[0;34m\u001b[0m\u001b[0;34m\u001b[0m\u001b[0m\n",
      "\u001b[0;31mAttributeError\u001b[0m: 'CbcMode' object has no attribute 'nonce'"
     ]
    }
   ],
   "source": [
    "from embsec import Serial\n",
    "from Crypto.Cipher import AES\n",
    "import struct\n",
    "\n",
    "def aes_encrypt_file():\n",
    "    ser = Serial(\"/embsec/aes_python/aes_encrypt_file\")\n",
    "    # Your code goes here!\n",
    "    with open ('aeskeyfile1.bin', 'rb') as fp:\n",
    "        key = fp.read()\n",
    "    cipher = AES.new(key, AES.MODE_CBC)\n",
    "    nonce = cipher.nonce\n",
    "    ciphertext, tag = cipher.encrypt_and_digest(data)\n",
    "aes_encrypt_file()\n"
   ]
  },
  {
   "cell_type": "markdown",
   "id": "cb2f889e",
   "metadata": {},
   "source": [
    "### Challenge Name: aes_encrypted_echo (/embsec/aes_python/aes_encrypted_echo)\n",
    "\n",
    "\n",
    "    The serial device is sending you an encrypted message. Decrypt\n",
    "    the message and send it back encrypt with a different IV. The \n",
    "    message needs to be formatted as follows:\n",
    "    \n",
    "    [ 0x10 ] [      0x2      ] [ variable...]\n",
    "    ----------------------------------------\n",
    "    |  IV   | Ciphertext Size | Ciphertext |\n",
    "    ----------------------------------------\n",
    "    \n",
    "    1. Read the AES key from 'aeskeyfile2.bin'\n",
    "    2. Read the 16 byte initialization vector (IV) from the serial device\n",
    "    3. Read the ciphertext size (formatted as a little-endian short) from the serial device\n",
    "    4. Read the ciphertext from the serial device\n",
    "    5. Decrypt the ciphertext using 128-bit AES in CBC mode\n",
    "    2. Re-encrypt the plaintext with the same key but a new IV\n",
    "    3. Send the IV to the serial device\n",
    "    4. Send the ciphertext size (formatted as a little-endian short) to the serial device\n",
    "    5. Send the ciphertext to the serial device\n",
    "    6. Read the response\n",
    "\n",
    "\n"
   ]
  },
  {
   "cell_type": "code",
   "execution_count": null,
   "id": "93de8b97",
   "metadata": {},
   "outputs": [],
   "source": [
    "from embsec import Serial\n",
    "\n",
    "def aes_encrypted_echo():\n",
    "    ser = Serial(\"/embsec/aes_python/aes_encrypted_echo\")\n",
    "    # Your code goes here!\n",
    "\n",
    "aes_encrypted_echo()\n"
   ]
  }
 ],
 "metadata": {
  "kernelspec": {
   "display_name": "Python 3 (ipykernel)",
   "language": "python",
   "name": "python3"
  },
  "language_info": {
   "codemirror_mode": {
    "name": "ipython",
    "version": 3
   },
   "file_extension": ".py",
   "mimetype": "text/x-python",
   "name": "python",
   "nbconvert_exporter": "python",
   "pygments_lexer": "ipython3",
   "version": "3.9.6"
  }
 },
 "nbformat": 4,
 "nbformat_minor": 5
}
